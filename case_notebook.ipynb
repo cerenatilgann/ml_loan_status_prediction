{
 "cells": [
  {
   "cell_type": "code",
   "execution_count": 1,
   "id": "06423060",
   "metadata": {},
   "outputs": [],
   "source": [
    "import numpy as np\n",
    "import pandas as pd\n",
    "import matplotlib.pyplot as plt\n",
    "import seaborn as sns\n",
    "import pickle as pkl\n",
    "import joblib\n",
    "from sklearn.ensemble import GradientBoostingClassifier\n",
    "from sklearn.ensemble import RandomForestClassifier\n",
    "from sklearn.model_selection import cross_val_score\n",
    "from sklearn.tree import DecisionTreeClassifier\n",
    "from sklearn.neighbors import KNeighborsClassifier\n",
    "from sklearn import svm\n",
    "from xgboost import XGBClassifier\n",
    "from sklearn.linear_model import LogisticRegression\n",
    "from sklearn.metrics import accuracy_score\n",
    "from sklearn.model_selection import train_test_split\n",
    "from sklearn.preprocessing import LabelEncoder\n",
    "from sklearn.svm import SVC\n",
    "from sklearn.preprocessing import MinMaxScaler\n",
    "from sklearn.model_selection import KFold\n",
    "from sklearn.metrics import classification_report\n",
    "from sklearn.feature_selection import RFECV "
   ]
  },
  {
   "cell_type": "markdown",
   "id": "8026a076",
   "metadata": {},
   "source": [
    "### Read Data"
   ]
  },
  {
   "cell_type": "code",
   "execution_count": 2,
   "id": "7bbad39d",
   "metadata": {},
   "outputs": [],
   "source": [
    "PATH = \"loan_approval_dataset.csv\""
   ]
  },
  {
   "cell_type": "code",
   "execution_count": 3,
   "id": "2682a400",
   "metadata": {},
   "outputs": [
    {
     "data": {
      "text/html": [
       "<div>\n",
       "<style scoped>\n",
       "    .dataframe tbody tr th:only-of-type {\n",
       "        vertical-align: middle;\n",
       "    }\n",
       "\n",
       "    .dataframe tbody tr th {\n",
       "        vertical-align: top;\n",
       "    }\n",
       "\n",
       "    .dataframe thead th {\n",
       "        text-align: right;\n",
       "    }\n",
       "</style>\n",
       "<table border=\"1\" class=\"dataframe\">\n",
       "  <thead>\n",
       "    <tr style=\"text-align: right;\">\n",
       "      <th></th>\n",
       "      <th>loan_id</th>\n",
       "      <th>no_of_dependents</th>\n",
       "      <th>education</th>\n",
       "      <th>self_employed</th>\n",
       "      <th>income_annum</th>\n",
       "      <th>loan_amount</th>\n",
       "      <th>loan_term</th>\n",
       "      <th>cibil_score</th>\n",
       "      <th>residential_assets_value</th>\n",
       "      <th>commercial_assets_value</th>\n",
       "      <th>luxury_assets_value</th>\n",
       "      <th>bank_asset_value</th>\n",
       "      <th>loan_status</th>\n",
       "    </tr>\n",
       "  </thead>\n",
       "  <tbody>\n",
       "    <tr>\n",
       "      <th>0</th>\n",
       "      <td>1</td>\n",
       "      <td>2</td>\n",
       "      <td>Graduate</td>\n",
       "      <td>No</td>\n",
       "      <td>9600000</td>\n",
       "      <td>29900000</td>\n",
       "      <td>12</td>\n",
       "      <td>778</td>\n",
       "      <td>2400000</td>\n",
       "      <td>17600000</td>\n",
       "      <td>22700000</td>\n",
       "      <td>8000000</td>\n",
       "      <td>Approved</td>\n",
       "    </tr>\n",
       "    <tr>\n",
       "      <th>1</th>\n",
       "      <td>2</td>\n",
       "      <td>0</td>\n",
       "      <td>Not Graduate</td>\n",
       "      <td>Yes</td>\n",
       "      <td>4100000</td>\n",
       "      <td>12200000</td>\n",
       "      <td>8</td>\n",
       "      <td>417</td>\n",
       "      <td>2700000</td>\n",
       "      <td>2200000</td>\n",
       "      <td>8800000</td>\n",
       "      <td>3300000</td>\n",
       "      <td>Rejected</td>\n",
       "    </tr>\n",
       "    <tr>\n",
       "      <th>2</th>\n",
       "      <td>3</td>\n",
       "      <td>3</td>\n",
       "      <td>Graduate</td>\n",
       "      <td>No</td>\n",
       "      <td>9100000</td>\n",
       "      <td>29700000</td>\n",
       "      <td>20</td>\n",
       "      <td>506</td>\n",
       "      <td>7100000</td>\n",
       "      <td>4500000</td>\n",
       "      <td>33300000</td>\n",
       "      <td>12800000</td>\n",
       "      <td>Rejected</td>\n",
       "    </tr>\n",
       "    <tr>\n",
       "      <th>3</th>\n",
       "      <td>4</td>\n",
       "      <td>3</td>\n",
       "      <td>Graduate</td>\n",
       "      <td>No</td>\n",
       "      <td>8200000</td>\n",
       "      <td>30700000</td>\n",
       "      <td>8</td>\n",
       "      <td>467</td>\n",
       "      <td>18200000</td>\n",
       "      <td>3300000</td>\n",
       "      <td>23300000</td>\n",
       "      <td>7900000</td>\n",
       "      <td>Rejected</td>\n",
       "    </tr>\n",
       "    <tr>\n",
       "      <th>4</th>\n",
       "      <td>5</td>\n",
       "      <td>5</td>\n",
       "      <td>Not Graduate</td>\n",
       "      <td>Yes</td>\n",
       "      <td>9800000</td>\n",
       "      <td>24200000</td>\n",
       "      <td>20</td>\n",
       "      <td>382</td>\n",
       "      <td>12400000</td>\n",
       "      <td>8200000</td>\n",
       "      <td>29400000</td>\n",
       "      <td>5000000</td>\n",
       "      <td>Rejected</td>\n",
       "    </tr>\n",
       "    <tr>\n",
       "      <th>...</th>\n",
       "      <td>...</td>\n",
       "      <td>...</td>\n",
       "      <td>...</td>\n",
       "      <td>...</td>\n",
       "      <td>...</td>\n",
       "      <td>...</td>\n",
       "      <td>...</td>\n",
       "      <td>...</td>\n",
       "      <td>...</td>\n",
       "      <td>...</td>\n",
       "      <td>...</td>\n",
       "      <td>...</td>\n",
       "      <td>...</td>\n",
       "    </tr>\n",
       "    <tr>\n",
       "      <th>4264</th>\n",
       "      <td>4265</td>\n",
       "      <td>5</td>\n",
       "      <td>Graduate</td>\n",
       "      <td>Yes</td>\n",
       "      <td>1000000</td>\n",
       "      <td>2300000</td>\n",
       "      <td>12</td>\n",
       "      <td>317</td>\n",
       "      <td>2800000</td>\n",
       "      <td>500000</td>\n",
       "      <td>3300000</td>\n",
       "      <td>800000</td>\n",
       "      <td>Rejected</td>\n",
       "    </tr>\n",
       "    <tr>\n",
       "      <th>4265</th>\n",
       "      <td>4266</td>\n",
       "      <td>0</td>\n",
       "      <td>Not Graduate</td>\n",
       "      <td>Yes</td>\n",
       "      <td>3300000</td>\n",
       "      <td>11300000</td>\n",
       "      <td>20</td>\n",
       "      <td>559</td>\n",
       "      <td>4200000</td>\n",
       "      <td>2900000</td>\n",
       "      <td>11000000</td>\n",
       "      <td>1900000</td>\n",
       "      <td>Approved</td>\n",
       "    </tr>\n",
       "    <tr>\n",
       "      <th>4266</th>\n",
       "      <td>4267</td>\n",
       "      <td>2</td>\n",
       "      <td>Not Graduate</td>\n",
       "      <td>No</td>\n",
       "      <td>6500000</td>\n",
       "      <td>23900000</td>\n",
       "      <td>18</td>\n",
       "      <td>457</td>\n",
       "      <td>1200000</td>\n",
       "      <td>12400000</td>\n",
       "      <td>18100000</td>\n",
       "      <td>7300000</td>\n",
       "      <td>Rejected</td>\n",
       "    </tr>\n",
       "    <tr>\n",
       "      <th>4267</th>\n",
       "      <td>4268</td>\n",
       "      <td>1</td>\n",
       "      <td>Not Graduate</td>\n",
       "      <td>No</td>\n",
       "      <td>4100000</td>\n",
       "      <td>12800000</td>\n",
       "      <td>8</td>\n",
       "      <td>780</td>\n",
       "      <td>8200000</td>\n",
       "      <td>700000</td>\n",
       "      <td>14100000</td>\n",
       "      <td>5800000</td>\n",
       "      <td>Approved</td>\n",
       "    </tr>\n",
       "    <tr>\n",
       "      <th>4268</th>\n",
       "      <td>4269</td>\n",
       "      <td>1</td>\n",
       "      <td>Graduate</td>\n",
       "      <td>No</td>\n",
       "      <td>9200000</td>\n",
       "      <td>29700000</td>\n",
       "      <td>10</td>\n",
       "      <td>607</td>\n",
       "      <td>17800000</td>\n",
       "      <td>11800000</td>\n",
       "      <td>35700000</td>\n",
       "      <td>12000000</td>\n",
       "      <td>Approved</td>\n",
       "    </tr>\n",
       "  </tbody>\n",
       "</table>\n",
       "<p>4269 rows × 13 columns</p>\n",
       "</div>"
      ],
      "text/plain": [
       "      loan_id   no_of_dependents      education  self_employed   income_annum  \\\n",
       "0           1                  2       Graduate             No        9600000   \n",
       "1           2                  0   Not Graduate            Yes        4100000   \n",
       "2           3                  3       Graduate             No        9100000   \n",
       "3           4                  3       Graduate             No        8200000   \n",
       "4           5                  5   Not Graduate            Yes        9800000   \n",
       "...       ...                ...            ...            ...            ...   \n",
       "4264     4265                  5       Graduate            Yes        1000000   \n",
       "4265     4266                  0   Not Graduate            Yes        3300000   \n",
       "4266     4267                  2   Not Graduate             No        6500000   \n",
       "4267     4268                  1   Not Graduate             No        4100000   \n",
       "4268     4269                  1       Graduate             No        9200000   \n",
       "\n",
       "       loan_amount   loan_term   cibil_score   residential_assets_value  \\\n",
       "0         29900000          12           778                    2400000   \n",
       "1         12200000           8           417                    2700000   \n",
       "2         29700000          20           506                    7100000   \n",
       "3         30700000           8           467                   18200000   \n",
       "4         24200000          20           382                   12400000   \n",
       "...            ...         ...           ...                        ...   \n",
       "4264       2300000          12           317                    2800000   \n",
       "4265      11300000          20           559                    4200000   \n",
       "4266      23900000          18           457                    1200000   \n",
       "4267      12800000           8           780                    8200000   \n",
       "4268      29700000          10           607                   17800000   \n",
       "\n",
       "       commercial_assets_value   luxury_assets_value   bank_asset_value  \\\n",
       "0                     17600000              22700000            8000000   \n",
       "1                      2200000               8800000            3300000   \n",
       "2                      4500000              33300000           12800000   \n",
       "3                      3300000              23300000            7900000   \n",
       "4                      8200000              29400000            5000000   \n",
       "...                        ...                   ...                ...   \n",
       "4264                    500000               3300000             800000   \n",
       "4265                   2900000              11000000            1900000   \n",
       "4266                  12400000              18100000            7300000   \n",
       "4267                    700000              14100000            5800000   \n",
       "4268                  11800000              35700000           12000000   \n",
       "\n",
       "      loan_status  \n",
       "0        Approved  \n",
       "1        Rejected  \n",
       "2        Rejected  \n",
       "3        Rejected  \n",
       "4        Rejected  \n",
       "...           ...  \n",
       "4264     Rejected  \n",
       "4265     Approved  \n",
       "4266     Rejected  \n",
       "4267     Approved  \n",
       "4268     Approved  \n",
       "\n",
       "[4269 rows x 13 columns]"
      ]
     },
     "execution_count": 3,
     "metadata": {},
     "output_type": "execute_result"
    }
   ],
   "source": [
    "df = pd.read_csv(PATH)\n",
    "df"
   ]
  },
  {
   "cell_type": "markdown",
   "id": "442762e1",
   "metadata": {},
   "source": [
    "## Exploratory Data Analysis"
   ]
  },
  {
   "cell_type": "markdown",
   "id": "419ce708",
   "metadata": {},
   "source": [
    "### Understanding data"
   ]
  },
  {
   "cell_type": "code",
   "execution_count": 4,
   "id": "8489e0dd",
   "metadata": {},
   "outputs": [
    {
     "name": "stdout",
     "output_type": "stream",
     "text": [
      "<class 'pandas.core.frame.DataFrame'>\n",
      "RangeIndex: 4269 entries, 0 to 4268\n",
      "Data columns (total 13 columns):\n",
      " #   Column                     Non-Null Count  Dtype \n",
      "---  ------                     --------------  ----- \n",
      " 0   loan_id                    4269 non-null   int64 \n",
      " 1    no_of_dependents          4269 non-null   int64 \n",
      " 2    education                 4269 non-null   object\n",
      " 3    self_employed             4269 non-null   object\n",
      " 4    income_annum              4269 non-null   int64 \n",
      " 5    loan_amount               4269 non-null   int64 \n",
      " 6    loan_term                 4269 non-null   int64 \n",
      " 7    cibil_score               4269 non-null   int64 \n",
      " 8    residential_assets_value  4269 non-null   int64 \n",
      " 9    commercial_assets_value   4269 non-null   int64 \n",
      " 10   luxury_assets_value       4269 non-null   int64 \n",
      " 11   bank_asset_value          4269 non-null   int64 \n",
      " 12   loan_status               4269 non-null   object\n",
      "dtypes: int64(10), object(3)\n",
      "memory usage: 433.7+ KB\n"
     ]
    }
   ],
   "source": [
    "df.info()"
   ]
  },
  {
   "cell_type": "code",
   "execution_count": 5,
   "id": "05283c4e",
   "metadata": {},
   "outputs": [
    {
     "data": {
      "text/html": [
       "<div>\n",
       "<style scoped>\n",
       "    .dataframe tbody tr th:only-of-type {\n",
       "        vertical-align: middle;\n",
       "    }\n",
       "\n",
       "    .dataframe tbody tr th {\n",
       "        vertical-align: top;\n",
       "    }\n",
       "\n",
       "    .dataframe thead th {\n",
       "        text-align: right;\n",
       "    }\n",
       "</style>\n",
       "<table border=\"1\" class=\"dataframe\">\n",
       "  <thead>\n",
       "    <tr style=\"text-align: right;\">\n",
       "      <th></th>\n",
       "      <th>count</th>\n",
       "      <th>mean</th>\n",
       "      <th>std</th>\n",
       "      <th>min</th>\n",
       "      <th>25%</th>\n",
       "      <th>50%</th>\n",
       "      <th>75%</th>\n",
       "      <th>max</th>\n",
       "    </tr>\n",
       "  </thead>\n",
       "  <tbody>\n",
       "    <tr>\n",
       "      <th>loan_id</th>\n",
       "      <td>4269.0</td>\n",
       "      <td>2.135000e+03</td>\n",
       "      <td>1.232498e+03</td>\n",
       "      <td>1.0</td>\n",
       "      <td>1068.0</td>\n",
       "      <td>2135.0</td>\n",
       "      <td>3202.0</td>\n",
       "      <td>4269.0</td>\n",
       "    </tr>\n",
       "    <tr>\n",
       "      <th>no_of_dependents</th>\n",
       "      <td>4269.0</td>\n",
       "      <td>2.498712e+00</td>\n",
       "      <td>1.695910e+00</td>\n",
       "      <td>0.0</td>\n",
       "      <td>1.0</td>\n",
       "      <td>3.0</td>\n",
       "      <td>4.0</td>\n",
       "      <td>5.0</td>\n",
       "    </tr>\n",
       "    <tr>\n",
       "      <th>income_annum</th>\n",
       "      <td>4269.0</td>\n",
       "      <td>5.059124e+06</td>\n",
       "      <td>2.806840e+06</td>\n",
       "      <td>200000.0</td>\n",
       "      <td>2700000.0</td>\n",
       "      <td>5100000.0</td>\n",
       "      <td>7500000.0</td>\n",
       "      <td>9900000.0</td>\n",
       "    </tr>\n",
       "    <tr>\n",
       "      <th>loan_amount</th>\n",
       "      <td>4269.0</td>\n",
       "      <td>1.513345e+07</td>\n",
       "      <td>9.043363e+06</td>\n",
       "      <td>300000.0</td>\n",
       "      <td>7700000.0</td>\n",
       "      <td>14500000.0</td>\n",
       "      <td>21500000.0</td>\n",
       "      <td>39500000.0</td>\n",
       "    </tr>\n",
       "    <tr>\n",
       "      <th>loan_term</th>\n",
       "      <td>4269.0</td>\n",
       "      <td>1.090045e+01</td>\n",
       "      <td>5.709187e+00</td>\n",
       "      <td>2.0</td>\n",
       "      <td>6.0</td>\n",
       "      <td>10.0</td>\n",
       "      <td>16.0</td>\n",
       "      <td>20.0</td>\n",
       "    </tr>\n",
       "    <tr>\n",
       "      <th>cibil_score</th>\n",
       "      <td>4269.0</td>\n",
       "      <td>5.999361e+02</td>\n",
       "      <td>1.724304e+02</td>\n",
       "      <td>300.0</td>\n",
       "      <td>453.0</td>\n",
       "      <td>600.0</td>\n",
       "      <td>748.0</td>\n",
       "      <td>900.0</td>\n",
       "    </tr>\n",
       "    <tr>\n",
       "      <th>residential_assets_value</th>\n",
       "      <td>4269.0</td>\n",
       "      <td>7.472617e+06</td>\n",
       "      <td>6.503637e+06</td>\n",
       "      <td>-100000.0</td>\n",
       "      <td>2200000.0</td>\n",
       "      <td>5600000.0</td>\n",
       "      <td>11300000.0</td>\n",
       "      <td>29100000.0</td>\n",
       "    </tr>\n",
       "    <tr>\n",
       "      <th>commercial_assets_value</th>\n",
       "      <td>4269.0</td>\n",
       "      <td>4.973155e+06</td>\n",
       "      <td>4.388966e+06</td>\n",
       "      <td>0.0</td>\n",
       "      <td>1300000.0</td>\n",
       "      <td>3700000.0</td>\n",
       "      <td>7600000.0</td>\n",
       "      <td>19400000.0</td>\n",
       "    </tr>\n",
       "    <tr>\n",
       "      <th>luxury_assets_value</th>\n",
       "      <td>4269.0</td>\n",
       "      <td>1.512631e+07</td>\n",
       "      <td>9.103754e+06</td>\n",
       "      <td>300000.0</td>\n",
       "      <td>7500000.0</td>\n",
       "      <td>14600000.0</td>\n",
       "      <td>21700000.0</td>\n",
       "      <td>39200000.0</td>\n",
       "    </tr>\n",
       "    <tr>\n",
       "      <th>bank_asset_value</th>\n",
       "      <td>4269.0</td>\n",
       "      <td>4.976692e+06</td>\n",
       "      <td>3.250185e+06</td>\n",
       "      <td>0.0</td>\n",
       "      <td>2300000.0</td>\n",
       "      <td>4600000.0</td>\n",
       "      <td>7100000.0</td>\n",
       "      <td>14700000.0</td>\n",
       "    </tr>\n",
       "  </tbody>\n",
       "</table>\n",
       "</div>"
      ],
      "text/plain": [
       "                            count          mean           std       min  \\\n",
       "loan_id                    4269.0  2.135000e+03  1.232498e+03       1.0   \n",
       " no_of_dependents          4269.0  2.498712e+00  1.695910e+00       0.0   \n",
       " income_annum              4269.0  5.059124e+06  2.806840e+06  200000.0   \n",
       " loan_amount               4269.0  1.513345e+07  9.043363e+06  300000.0   \n",
       " loan_term                 4269.0  1.090045e+01  5.709187e+00       2.0   \n",
       " cibil_score               4269.0  5.999361e+02  1.724304e+02     300.0   \n",
       " residential_assets_value  4269.0  7.472617e+06  6.503637e+06 -100000.0   \n",
       " commercial_assets_value   4269.0  4.973155e+06  4.388966e+06       0.0   \n",
       " luxury_assets_value       4269.0  1.512631e+07  9.103754e+06  300000.0   \n",
       " bank_asset_value          4269.0  4.976692e+06  3.250185e+06       0.0   \n",
       "\n",
       "                                 25%         50%         75%         max  \n",
       "loan_id                       1068.0      2135.0      3202.0      4269.0  \n",
       " no_of_dependents                1.0         3.0         4.0         5.0  \n",
       " income_annum              2700000.0   5100000.0   7500000.0   9900000.0  \n",
       " loan_amount               7700000.0  14500000.0  21500000.0  39500000.0  \n",
       " loan_term                       6.0        10.0        16.0        20.0  \n",
       " cibil_score                   453.0       600.0       748.0       900.0  \n",
       " residential_assets_value  2200000.0   5600000.0  11300000.0  29100000.0  \n",
       " commercial_assets_value   1300000.0   3700000.0   7600000.0  19400000.0  \n",
       " luxury_assets_value       7500000.0  14600000.0  21700000.0  39200000.0  \n",
       " bank_asset_value          2300000.0   4600000.0   7100000.0  14700000.0  "
      ]
     },
     "execution_count": 5,
     "metadata": {},
     "output_type": "execute_result"
    }
   ],
   "source": [
    "df.describe().transpose()"
   ]
  },
  {
   "cell_type": "code",
   "execution_count": 6,
   "id": "41dbaf86",
   "metadata": {},
   "outputs": [
    {
     "data": {
      "text/html": [
       "<div>\n",
       "<style scoped>\n",
       "    .dataframe tbody tr th:only-of-type {\n",
       "        vertical-align: middle;\n",
       "    }\n",
       "\n",
       "    .dataframe tbody tr th {\n",
       "        vertical-align: top;\n",
       "    }\n",
       "\n",
       "    .dataframe thead th {\n",
       "        text-align: right;\n",
       "    }\n",
       "</style>\n",
       "<table border=\"1\" class=\"dataframe\">\n",
       "  <thead>\n",
       "    <tr style=\"text-align: right;\">\n",
       "      <th></th>\n",
       "      <th>count</th>\n",
       "      <th>mean</th>\n",
       "      <th>std</th>\n",
       "      <th>min</th>\n",
       "      <th>25%</th>\n",
       "      <th>50%</th>\n",
       "      <th>75%</th>\n",
       "      <th>max</th>\n",
       "    </tr>\n",
       "  </thead>\n",
       "  <tbody>\n",
       "    <tr>\n",
       "      <th>loan_id</th>\n",
       "      <td>4269.00</td>\n",
       "      <td>2135.00</td>\n",
       "      <td>1232.50</td>\n",
       "      <td>1.00</td>\n",
       "      <td>1068.00</td>\n",
       "      <td>2135.00</td>\n",
       "      <td>3202.00</td>\n",
       "      <td>4269.00</td>\n",
       "    </tr>\n",
       "    <tr>\n",
       "      <th>no_of_dependents</th>\n",
       "      <td>4269.00</td>\n",
       "      <td>2.50</td>\n",
       "      <td>1.70</td>\n",
       "      <td>0.00</td>\n",
       "      <td>1.00</td>\n",
       "      <td>3.00</td>\n",
       "      <td>4.00</td>\n",
       "      <td>5.00</td>\n",
       "    </tr>\n",
       "    <tr>\n",
       "      <th>income_annum</th>\n",
       "      <td>4269.00</td>\n",
       "      <td>5059123.92</td>\n",
       "      <td>2806839.83</td>\n",
       "      <td>200000.00</td>\n",
       "      <td>2700000.00</td>\n",
       "      <td>5100000.00</td>\n",
       "      <td>7500000.00</td>\n",
       "      <td>9900000.00</td>\n",
       "    </tr>\n",
       "    <tr>\n",
       "      <th>loan_amount</th>\n",
       "      <td>4269.00</td>\n",
       "      <td>15133450.46</td>\n",
       "      <td>9043362.98</td>\n",
       "      <td>300000.00</td>\n",
       "      <td>7700000.00</td>\n",
       "      <td>14500000.00</td>\n",
       "      <td>21500000.00</td>\n",
       "      <td>39500000.00</td>\n",
       "    </tr>\n",
       "    <tr>\n",
       "      <th>loan_term</th>\n",
       "      <td>4269.00</td>\n",
       "      <td>10.90</td>\n",
       "      <td>5.71</td>\n",
       "      <td>2.00</td>\n",
       "      <td>6.00</td>\n",
       "      <td>10.00</td>\n",
       "      <td>16.00</td>\n",
       "      <td>20.00</td>\n",
       "    </tr>\n",
       "    <tr>\n",
       "      <th>cibil_score</th>\n",
       "      <td>4269.00</td>\n",
       "      <td>599.94</td>\n",
       "      <td>172.43</td>\n",
       "      <td>300.00</td>\n",
       "      <td>453.00</td>\n",
       "      <td>600.00</td>\n",
       "      <td>748.00</td>\n",
       "      <td>900.00</td>\n",
       "    </tr>\n",
       "    <tr>\n",
       "      <th>residential_assets_value</th>\n",
       "      <td>4269.00</td>\n",
       "      <td>7472616.54</td>\n",
       "      <td>6503636.59</td>\n",
       "      <td>-100000.00</td>\n",
       "      <td>2200000.00</td>\n",
       "      <td>5600000.00</td>\n",
       "      <td>11300000.00</td>\n",
       "      <td>29100000.00</td>\n",
       "    </tr>\n",
       "    <tr>\n",
       "      <th>commercial_assets_value</th>\n",
       "      <td>4269.00</td>\n",
       "      <td>4973155.31</td>\n",
       "      <td>4388966.09</td>\n",
       "      <td>0.00</td>\n",
       "      <td>1300000.00</td>\n",
       "      <td>3700000.00</td>\n",
       "      <td>7600000.00</td>\n",
       "      <td>19400000.00</td>\n",
       "    </tr>\n",
       "    <tr>\n",
       "      <th>luxury_assets_value</th>\n",
       "      <td>4269.00</td>\n",
       "      <td>15126305.93</td>\n",
       "      <td>9103753.67</td>\n",
       "      <td>300000.00</td>\n",
       "      <td>7500000.00</td>\n",
       "      <td>14600000.00</td>\n",
       "      <td>21700000.00</td>\n",
       "      <td>39200000.00</td>\n",
       "    </tr>\n",
       "    <tr>\n",
       "      <th>bank_asset_value</th>\n",
       "      <td>4269.00</td>\n",
       "      <td>4976692.43</td>\n",
       "      <td>3250185.31</td>\n",
       "      <td>0.00</td>\n",
       "      <td>2300000.00</td>\n",
       "      <td>4600000.00</td>\n",
       "      <td>7100000.00</td>\n",
       "      <td>14700000.00</td>\n",
       "    </tr>\n",
       "  </tbody>\n",
       "</table>\n",
       "</div>"
      ],
      "text/plain": [
       "                             count         mean         std         min  \\\n",
       "loan_id                    4269.00      2135.00     1232.50        1.00   \n",
       " no_of_dependents          4269.00         2.50        1.70        0.00   \n",
       " income_annum              4269.00   5059123.92  2806839.83   200000.00   \n",
       " loan_amount               4269.00  15133450.46  9043362.98   300000.00   \n",
       " loan_term                 4269.00        10.90        5.71        2.00   \n",
       " cibil_score               4269.00       599.94      172.43      300.00   \n",
       " residential_assets_value  4269.00   7472616.54  6503636.59  -100000.00   \n",
       " commercial_assets_value   4269.00   4973155.31  4388966.09        0.00   \n",
       " luxury_assets_value       4269.00  15126305.93  9103753.67   300000.00   \n",
       " bank_asset_value          4269.00   4976692.43  3250185.31        0.00   \n",
       "\n",
       "                                  25%          50%          75%          max  \n",
       "loan_id                       1068.00      2135.00      3202.00      4269.00  \n",
       " no_of_dependents                1.00         3.00         4.00         5.00  \n",
       " income_annum              2700000.00   5100000.00   7500000.00   9900000.00  \n",
       " loan_amount               7700000.00  14500000.00  21500000.00  39500000.00  \n",
       " loan_term                       6.00        10.00        16.00        20.00  \n",
       " cibil_score                   453.00       600.00       748.00       900.00  \n",
       " residential_assets_value  2200000.00   5600000.00  11300000.00  29100000.00  \n",
       " commercial_assets_value   1300000.00   3700000.00   7600000.00  19400000.00  \n",
       " luxury_assets_value       7500000.00  14600000.00  21700000.00  39200000.00  \n",
       " bank_asset_value          2300000.00   4600000.00   7100000.00  14700000.00  "
      ]
     },
     "execution_count": 6,
     "metadata": {},
     "output_type": "execute_result"
    }
   ],
   "source": [
    "df.describe().transpose().apply(lambda s: s.apply('{0:.2f}'.format))"
   ]
  },
  {
   "cell_type": "code",
   "execution_count": 7,
   "id": "2c686b76",
   "metadata": {},
   "outputs": [
    {
     "data": {
      "text/plain": [
       "loan_id                      0\n",
       " no_of_dependents            0\n",
       " education                   0\n",
       " self_employed               0\n",
       " income_annum                0\n",
       " loan_amount                 0\n",
       " loan_term                   0\n",
       " cibil_score                 0\n",
       " residential_assets_value    0\n",
       " commercial_assets_value     0\n",
       " luxury_assets_value         0\n",
       " bank_asset_value            0\n",
       " loan_status                 0\n",
       "dtype: int64"
      ]
     },
     "execution_count": 7,
     "metadata": {},
     "output_type": "execute_result"
    }
   ],
   "source": [
    "# check missing values\n",
    "df.isnull().sum()"
   ]
  },
  {
   "cell_type": "code",
   "execution_count": 8,
   "id": "aac2458b",
   "metadata": {},
   "outputs": [
    {
     "data": {
      "text/plain": [
       "0"
      ]
     },
     "execution_count": 8,
     "metadata": {},
     "output_type": "execute_result"
    }
   ],
   "source": [
    "# check duplicated values\n",
    "df.duplicated().sum() "
   ]
  },
  {
   "cell_type": "code",
   "execution_count": 9,
   "id": "3b08ef26",
   "metadata": {},
   "outputs": [
    {
     "data": {
      "text/plain": [
       "Index(['loan_id', ' no_of_dependents', ' education', ' self_employed',\n",
       "       ' income_annum', ' loan_amount', ' loan_term', ' cibil_score',\n",
       "       ' residential_assets_value', ' commercial_assets_value',\n",
       "       ' luxury_assets_value', ' bank_asset_value', ' loan_status'],\n",
       "      dtype='object')"
      ]
     },
     "execution_count": 9,
     "metadata": {},
     "output_type": "execute_result"
    }
   ],
   "source": [
    "df.columns"
   ]
  },
  {
   "cell_type": "code",
   "execution_count": 10,
   "id": "c505a38f",
   "metadata": {},
   "outputs": [],
   "source": [
    "# remove white space from column names\n",
    "df.columns = df.columns.str.replace(' ', '') "
   ]
  },
  {
   "cell_type": "code",
   "execution_count": 11,
   "id": "c2575236",
   "metadata": {},
   "outputs": [
    {
     "data": {
      "text/plain": [
       "Index(['loan_id', 'no_of_dependents', 'education', 'self_employed',\n",
       "       'income_annum', 'loan_amount', 'loan_term', 'cibil_score',\n",
       "       'residential_assets_value', 'commercial_assets_value',\n",
       "       'luxury_assets_value', 'bank_asset_value', 'loan_status'],\n",
       "      dtype='object')"
      ]
     },
     "execution_count": 11,
     "metadata": {},
     "output_type": "execute_result"
    }
   ],
   "source": [
    "df.columns"
   ]
  },
  {
   "cell_type": "code",
   "execution_count": 12,
   "id": "31edace9",
   "metadata": {
    "scrolled": true
   },
   "outputs": [
    {
     "data": {
      "text/html": [
       "<div>\n",
       "<style scoped>\n",
       "    .dataframe tbody tr th:only-of-type {\n",
       "        vertical-align: middle;\n",
       "    }\n",
       "\n",
       "    .dataframe tbody tr th {\n",
       "        vertical-align: top;\n",
       "    }\n",
       "\n",
       "    .dataframe thead th {\n",
       "        text-align: right;\n",
       "    }\n",
       "</style>\n",
       "<table border=\"1\" class=\"dataframe\">\n",
       "  <thead>\n",
       "    <tr style=\"text-align: right;\">\n",
       "      <th></th>\n",
       "      <th>loan_id</th>\n",
       "      <th>no_of_dependents</th>\n",
       "      <th>education</th>\n",
       "      <th>self_employed</th>\n",
       "      <th>income_annum</th>\n",
       "      <th>loan_amount</th>\n",
       "      <th>loan_term</th>\n",
       "      <th>cibil_score</th>\n",
       "      <th>residential_assets_value</th>\n",
       "      <th>commercial_assets_value</th>\n",
       "      <th>luxury_assets_value</th>\n",
       "      <th>bank_asset_value</th>\n",
       "      <th>loan_status</th>\n",
       "    </tr>\n",
       "  </thead>\n",
       "  <tbody>\n",
       "    <tr>\n",
       "      <th>0</th>\n",
       "      <td>1</td>\n",
       "      <td>2</td>\n",
       "      <td>Graduate</td>\n",
       "      <td>No</td>\n",
       "      <td>9600000</td>\n",
       "      <td>29900000</td>\n",
       "      <td>12</td>\n",
       "      <td>778</td>\n",
       "      <td>2400000</td>\n",
       "      <td>17600000</td>\n",
       "      <td>22700000</td>\n",
       "      <td>8000000</td>\n",
       "      <td>Approved</td>\n",
       "    </tr>\n",
       "    <tr>\n",
       "      <th>1</th>\n",
       "      <td>2</td>\n",
       "      <td>0</td>\n",
       "      <td>Not Graduate</td>\n",
       "      <td>Yes</td>\n",
       "      <td>4100000</td>\n",
       "      <td>12200000</td>\n",
       "      <td>8</td>\n",
       "      <td>417</td>\n",
       "      <td>2700000</td>\n",
       "      <td>2200000</td>\n",
       "      <td>8800000</td>\n",
       "      <td>3300000</td>\n",
       "      <td>Rejected</td>\n",
       "    </tr>\n",
       "    <tr>\n",
       "      <th>2</th>\n",
       "      <td>3</td>\n",
       "      <td>3</td>\n",
       "      <td>Graduate</td>\n",
       "      <td>No</td>\n",
       "      <td>9100000</td>\n",
       "      <td>29700000</td>\n",
       "      <td>20</td>\n",
       "      <td>506</td>\n",
       "      <td>7100000</td>\n",
       "      <td>4500000</td>\n",
       "      <td>33300000</td>\n",
       "      <td>12800000</td>\n",
       "      <td>Rejected</td>\n",
       "    </tr>\n",
       "    <tr>\n",
       "      <th>3</th>\n",
       "      <td>4</td>\n",
       "      <td>3</td>\n",
       "      <td>Graduate</td>\n",
       "      <td>No</td>\n",
       "      <td>8200000</td>\n",
       "      <td>30700000</td>\n",
       "      <td>8</td>\n",
       "      <td>467</td>\n",
       "      <td>18200000</td>\n",
       "      <td>3300000</td>\n",
       "      <td>23300000</td>\n",
       "      <td>7900000</td>\n",
       "      <td>Rejected</td>\n",
       "    </tr>\n",
       "    <tr>\n",
       "      <th>4</th>\n",
       "      <td>5</td>\n",
       "      <td>5</td>\n",
       "      <td>Not Graduate</td>\n",
       "      <td>Yes</td>\n",
       "      <td>9800000</td>\n",
       "      <td>24200000</td>\n",
       "      <td>20</td>\n",
       "      <td>382</td>\n",
       "      <td>12400000</td>\n",
       "      <td>8200000</td>\n",
       "      <td>29400000</td>\n",
       "      <td>5000000</td>\n",
       "      <td>Rejected</td>\n",
       "    </tr>\n",
       "  </tbody>\n",
       "</table>\n",
       "</div>"
      ],
      "text/plain": [
       "   loan_id  no_of_dependents      education self_employed  income_annum  \\\n",
       "0        1                 2       Graduate            No       9600000   \n",
       "1        2                 0   Not Graduate           Yes       4100000   \n",
       "2        3                 3       Graduate            No       9100000   \n",
       "3        4                 3       Graduate            No       8200000   \n",
       "4        5                 5   Not Graduate           Yes       9800000   \n",
       "\n",
       "   loan_amount  loan_term  cibil_score  residential_assets_value  \\\n",
       "0     29900000         12          778                   2400000   \n",
       "1     12200000          8          417                   2700000   \n",
       "2     29700000         20          506                   7100000   \n",
       "3     30700000          8          467                  18200000   \n",
       "4     24200000         20          382                  12400000   \n",
       "\n",
       "   commercial_assets_value  luxury_assets_value  bank_asset_value loan_status  \n",
       "0                 17600000             22700000           8000000    Approved  \n",
       "1                  2200000              8800000           3300000    Rejected  \n",
       "2                  4500000             33300000          12800000    Rejected  \n",
       "3                  3300000             23300000           7900000    Rejected  \n",
       "4                  8200000             29400000           5000000    Rejected  "
      ]
     },
     "execution_count": 12,
     "metadata": {},
     "output_type": "execute_result"
    }
   ],
   "source": [
    "df.head()"
   ]
  },
  {
   "cell_type": "code",
   "execution_count": 13,
   "id": "ba55293b",
   "metadata": {
    "scrolled": true
   },
   "outputs": [],
   "source": [
    "df = df.drop('loan_id',axis=1)"
   ]
  },
  {
   "cell_type": "code",
   "execution_count": 14,
   "id": "4f24c07c",
   "metadata": {},
   "outputs": [
    {
     "data": {
      "text/html": [
       "<div>\n",
       "<style scoped>\n",
       "    .dataframe tbody tr th:only-of-type {\n",
       "        vertical-align: middle;\n",
       "    }\n",
       "\n",
       "    .dataframe tbody tr th {\n",
       "        vertical-align: top;\n",
       "    }\n",
       "\n",
       "    .dataframe thead th {\n",
       "        text-align: right;\n",
       "    }\n",
       "</style>\n",
       "<table border=\"1\" class=\"dataframe\">\n",
       "  <thead>\n",
       "    <tr style=\"text-align: right;\">\n",
       "      <th></th>\n",
       "      <th>no_of_dependents</th>\n",
       "      <th>education</th>\n",
       "      <th>self_employed</th>\n",
       "      <th>income_annum</th>\n",
       "      <th>loan_amount</th>\n",
       "      <th>loan_term</th>\n",
       "      <th>cibil_score</th>\n",
       "      <th>residential_assets_value</th>\n",
       "      <th>commercial_assets_value</th>\n",
       "      <th>luxury_assets_value</th>\n",
       "      <th>bank_asset_value</th>\n",
       "      <th>loan_status</th>\n",
       "    </tr>\n",
       "  </thead>\n",
       "  <tbody>\n",
       "    <tr>\n",
       "      <th>0</th>\n",
       "      <td>2</td>\n",
       "      <td>Graduate</td>\n",
       "      <td>No</td>\n",
       "      <td>9600000</td>\n",
       "      <td>29900000</td>\n",
       "      <td>12</td>\n",
       "      <td>778</td>\n",
       "      <td>2400000</td>\n",
       "      <td>17600000</td>\n",
       "      <td>22700000</td>\n",
       "      <td>8000000</td>\n",
       "      <td>Approved</td>\n",
       "    </tr>\n",
       "    <tr>\n",
       "      <th>1</th>\n",
       "      <td>0</td>\n",
       "      <td>Not Graduate</td>\n",
       "      <td>Yes</td>\n",
       "      <td>4100000</td>\n",
       "      <td>12200000</td>\n",
       "      <td>8</td>\n",
       "      <td>417</td>\n",
       "      <td>2700000</td>\n",
       "      <td>2200000</td>\n",
       "      <td>8800000</td>\n",
       "      <td>3300000</td>\n",
       "      <td>Rejected</td>\n",
       "    </tr>\n",
       "    <tr>\n",
       "      <th>2</th>\n",
       "      <td>3</td>\n",
       "      <td>Graduate</td>\n",
       "      <td>No</td>\n",
       "      <td>9100000</td>\n",
       "      <td>29700000</td>\n",
       "      <td>20</td>\n",
       "      <td>506</td>\n",
       "      <td>7100000</td>\n",
       "      <td>4500000</td>\n",
       "      <td>33300000</td>\n",
       "      <td>12800000</td>\n",
       "      <td>Rejected</td>\n",
       "    </tr>\n",
       "    <tr>\n",
       "      <th>3</th>\n",
       "      <td>3</td>\n",
       "      <td>Graduate</td>\n",
       "      <td>No</td>\n",
       "      <td>8200000</td>\n",
       "      <td>30700000</td>\n",
       "      <td>8</td>\n",
       "      <td>467</td>\n",
       "      <td>18200000</td>\n",
       "      <td>3300000</td>\n",
       "      <td>23300000</td>\n",
       "      <td>7900000</td>\n",
       "      <td>Rejected</td>\n",
       "    </tr>\n",
       "    <tr>\n",
       "      <th>4</th>\n",
       "      <td>5</td>\n",
       "      <td>Not Graduate</td>\n",
       "      <td>Yes</td>\n",
       "      <td>9800000</td>\n",
       "      <td>24200000</td>\n",
       "      <td>20</td>\n",
       "      <td>382</td>\n",
       "      <td>12400000</td>\n",
       "      <td>8200000</td>\n",
       "      <td>29400000</td>\n",
       "      <td>5000000</td>\n",
       "      <td>Rejected</td>\n",
       "    </tr>\n",
       "  </tbody>\n",
       "</table>\n",
       "</div>"
      ],
      "text/plain": [
       "   no_of_dependents      education self_employed  income_annum  loan_amount  \\\n",
       "0                 2       Graduate            No       9600000     29900000   \n",
       "1                 0   Not Graduate           Yes       4100000     12200000   \n",
       "2                 3       Graduate            No       9100000     29700000   \n",
       "3                 3       Graduate            No       8200000     30700000   \n",
       "4                 5   Not Graduate           Yes       9800000     24200000   \n",
       "\n",
       "   loan_term  cibil_score  residential_assets_value  commercial_assets_value  \\\n",
       "0         12          778                   2400000                 17600000   \n",
       "1          8          417                   2700000                  2200000   \n",
       "2         20          506                   7100000                  4500000   \n",
       "3          8          467                  18200000                  3300000   \n",
       "4         20          382                  12400000                  8200000   \n",
       "\n",
       "   luxury_assets_value  bank_asset_value loan_status  \n",
       "0             22700000           8000000    Approved  \n",
       "1              8800000           3300000    Rejected  \n",
       "2             33300000          12800000    Rejected  \n",
       "3             23300000           7900000    Rejected  \n",
       "4             29400000           5000000    Rejected  "
      ]
     },
     "execution_count": 14,
     "metadata": {},
     "output_type": "execute_result"
    }
   ],
   "source": [
    "df.head()"
   ]
  },
  {
   "cell_type": "code",
   "execution_count": 15,
   "id": "2b77482a",
   "metadata": {},
   "outputs": [],
   "source": [
    "# no_of_dependents, education, self_employed, loan_term, loan_status\n",
    "# Function that draws a bar chart to see the distribution of countable categorical data\n",
    "def print_value_counts(df, col_name):\n",
    "    fig = plt.figure(figsize=(5,3))\n",
    "    ax = sns.countplot(x=col_name, data=df)\n",
    "    ax.bar_label(ax.containers[0])\n",
    "    plt.show()"
   ]
  },
  {
   "cell_type": "code",
   "execution_count": 16,
   "id": "b97e0bbb",
   "metadata": {},
   "outputs": [],
   "source": [
    "# income_annum, loan_amount, cibil_score, residential_assets_value, commercial_assets_value, luxury_assets_value, bank_asset_value\n",
    "# Function that draws a density histogram to see the distribution of numeric data\n",
    "def print_histogram(df, col_name):\n",
    "    fig = plt.figure(figsize=(5,3))\n",
    "    ax = df[col_name].hist(density=True, alpha=0.3)\n",
    "    df[col_name].plot(kind='density')\n",
    "    ax.set(xlabel=col_name)\n",
    "    plt.show()"
   ]
  },
  {
   "cell_type": "code",
   "execution_count": 17,
   "id": "5a7ae239",
   "metadata": {
    "scrolled": true
   },
   "outputs": [
    {
     "data": {
      "image/png": "[encoded data removed]",
      "text/plain": [
       "<Figure size 360x216 with 1 Axes>"
      ]
     },
     "metadata": {
      "needs_background": "light"
     },
     "output_type": "display_data"
    },
    {
     "data": {
      "image/png": "[encoded data removed]",
      "text/plain": [
       "<Figure size 360x216 with 1 Axes>"
      ]
     },
     "metadata": {
      "needs_background": "light"
     },
     "output_type": "display_data"
    },
    {
     "data": {
      "image/png": "[encoded data removed]",
      "text/plain": [
       "<Figure size 360x216 with 1 Axes>"
      ]
     },
     "metadata": {
      "needs_background": "light"
     },
     "output_type": "display_data"
    },
    {
     "data": {
      "image/png": "[encoded data removed]",
      "text/plain": [
       "<Figure size 360x216 with 1 Axes>"
      ]
     },
     "metadata": {
      "needs_background": "light"
     },
     "output_type": "display_data"
    },
    {
     "data": {
      "image/png": "[encoded data removed]",
      "text/plain": [
       "<Figure size 360x216 with 1 Axes>"
      ]
     },
     "metadata": {
      "needs_background": "light"
     },
     "output_type": "display_data"
    }
   ],
   "source": [
    "coll_arr_val_counts = [\"no_of_dependents\", \"education\", \"self_employed\", \"loan_term\", \"loan_status\"]\n",
    "for col_name in coll_arr_val_counts:\n",
    "    print_value_counts(df, col_name)"
   ]
  },
  {
   "cell_type": "code",
   "execution_count": 18,
   "id": "bfedeffc",
   "metadata": {},
   "outputs": [
    {
     "data": {
      "image/png": "[encoded data removed]",
      "text/plain": [
       "<Figure size 432x288 with 1 Axes>"
      ]
     },
     "metadata": {},
     "output_type": "display_data"
    }
   ],
   "source": [
    "loan_status = df[\"loan_status\"].value_counts()\n",
    "plt.pie(loan_status.values, labels=loan_status.index, autopct='%1.1f%%')\n",
    "plt.show()"
   ]
  },
  {
   "cell_type": "code",
   "execution_count": 19,
   "id": "2ac91874",
   "metadata": {
    "scrolled": true
   },
   "outputs": [
    {
     "data": {
      "image/png": "[encoded data removed]",
      "text/plain": [
       "<Figure size 360x216 with 1 Axes>"
      ]
     },
     "metadata": {
      "needs_background": "light"
     },
     "output_type": "display_data"
    },
    {
     "data": {
      "image/png": "[encoded data removed]",
      "text/plain": [
       "<Figure size 360x216 with 1 Axes>"
      ]
     },
     "metadata": {
      "needs_background": "light"
     },
     "output_type": "display_data"
    },
    {
     "data": {
      "image/png": "[encoded data removed]",
      "text/plain": [
       "<Figure size 360x216 with 1 Axes>"
      ]
     },
     "metadata": {
      "needs_background": "light"
     },
     "output_type": "display_data"
    },
    {
     "data": {
      "image/png": "[encoded data removed]",
      "text/plain": [
       "<Figure size 360x216 with 1 Axes>"
      ]
     },
     "metadata": {
      "needs_background": "light"
     },
     "output_type": "display_data"
    },
    {
     "data": {
      "image/png": "[encoded data removed]",
      "text/plain": [
       "<Figure size 360x216 with 1 Axes>"
      ]
     },
     "metadata": {
      "needs_background": "light"
     },
     "output_type": "display_data"
    },
    {
     "data": {
      "image/png": "[encoded data removed]",
      "text/plain": [
       "<Figure size 360x216 with 1 Axes>"
      ]
     },
     "metadata": {
      "needs_background": "light"
     },
     "output_type": "display_data"
    },
    {
     "data": {
      "image/png": "[encoded data removed]",
      "text/plain": [
       "<Figure size 360x216 with 1 Axes>"
      ]
     },
     "metadata": {
      "needs_background": "light"
     },
     "output_type": "display_data"
    }
   ],
   "source": [
    "col_arr_hist = [\"income_annum\", \"loan_amount\", \"cibil_score\", \"residential_assets_value\", \"commercial_assets_value\", \"luxury_assets_value\", \"bank_asset_value\"]\n",
    "for col_name in col_arr_hist:\n",
    "    print_histogram(df, col_name)"
   ]
  },
  {
   "cell_type": "markdown",
   "id": "2d69160e",
   "metadata": {},
   "source": [
    "* None of them is normally distributed "
   ]
  },
  {
   "cell_type": "markdown",
   "id": "3561f688",
   "metadata": {},
   "source": [
    "### Preprocessing"
   ]
  },
  {
   "cell_type": "code",
   "execution_count": 20,
   "id": "7271ac66",
   "metadata": {},
   "outputs": [],
   "source": [
    "categorical_col = [\"education\",\"self_employed\",\"loan_status\"]\n",
    "numeric_col = [col for col in df.columns if col not in categorical_col]"
   ]
  },
  {
   "cell_type": "code",
   "execution_count": 21,
   "id": "3fa0ba40",
   "metadata": {},
   "outputs": [],
   "source": [
    "le = LabelEncoder()\n",
    "\n",
    "for col in categorical_col:\n",
    "    df[col]=le.fit_transform(df[col])"
   ]
  },
  {
   "cell_type": "code",
   "execution_count": 22,
   "id": "f5f6b1af",
   "metadata": {},
   "outputs": [],
   "source": [
    "# Min max scaler is chosen instead of Standard Scaler because the data is not normally distributed\n",
    "scaler = MinMaxScaler() \n",
    "\n",
    "for col in numeric_col:\n",
    "    df[[col]] = scaler.fit_transform(df[[col]])"
   ]
  },
  {
   "cell_type": "code",
   "execution_count": 23,
   "id": "d9f03a70",
   "metadata": {},
   "outputs": [
    {
     "data": {
      "text/html": [
       "<div>\n",
       "<style scoped>\n",
       "    .dataframe tbody tr th:only-of-type {\n",
       "        vertical-align: middle;\n",
       "    }\n",
       "\n",
       "    .dataframe tbody tr th {\n",
       "        vertical-align: top;\n",
       "    }\n",
       "\n",
       "    .dataframe thead th {\n",
       "        text-align: right;\n",
       "    }\n",
       "</style>\n",
       "<table border=\"1\" class=\"dataframe\">\n",
       "  <thead>\n",
       "    <tr style=\"text-align: right;\">\n",
       "      <th></th>\n",
       "      <th>no_of_dependents</th>\n",
       "      <th>education</th>\n",
       "      <th>self_employed</th>\n",
       "      <th>income_annum</th>\n",
       "      <th>loan_amount</th>\n",
       "      <th>loan_term</th>\n",
       "      <th>cibil_score</th>\n",
       "      <th>residential_assets_value</th>\n",
       "      <th>commercial_assets_value</th>\n",
       "      <th>luxury_assets_value</th>\n",
       "      <th>bank_asset_value</th>\n",
       "      <th>loan_status</th>\n",
       "    </tr>\n",
       "  </thead>\n",
       "  <tbody>\n",
       "    <tr>\n",
       "      <th>0</th>\n",
       "      <td>0.4</td>\n",
       "      <td>0</td>\n",
       "      <td>0</td>\n",
       "      <td>0.969072</td>\n",
       "      <td>0.755102</td>\n",
       "      <td>0.555556</td>\n",
       "      <td>0.796667</td>\n",
       "      <td>0.085616</td>\n",
       "      <td>0.907216</td>\n",
       "      <td>0.575835</td>\n",
       "      <td>0.544218</td>\n",
       "      <td>0</td>\n",
       "    </tr>\n",
       "    <tr>\n",
       "      <th>1</th>\n",
       "      <td>0.0</td>\n",
       "      <td>1</td>\n",
       "      <td>1</td>\n",
       "      <td>0.402062</td>\n",
       "      <td>0.303571</td>\n",
       "      <td>0.333333</td>\n",
       "      <td>0.195000</td>\n",
       "      <td>0.095890</td>\n",
       "      <td>0.113402</td>\n",
       "      <td>0.218509</td>\n",
       "      <td>0.224490</td>\n",
       "      <td>1</td>\n",
       "    </tr>\n",
       "    <tr>\n",
       "      <th>2</th>\n",
       "      <td>0.6</td>\n",
       "      <td>0</td>\n",
       "      <td>0</td>\n",
       "      <td>0.917526</td>\n",
       "      <td>0.750000</td>\n",
       "      <td>1.000000</td>\n",
       "      <td>0.343333</td>\n",
       "      <td>0.246575</td>\n",
       "      <td>0.231959</td>\n",
       "      <td>0.848329</td>\n",
       "      <td>0.870748</td>\n",
       "      <td>1</td>\n",
       "    </tr>\n",
       "    <tr>\n",
       "      <th>3</th>\n",
       "      <td>0.6</td>\n",
       "      <td>0</td>\n",
       "      <td>0</td>\n",
       "      <td>0.824742</td>\n",
       "      <td>0.775510</td>\n",
       "      <td>0.333333</td>\n",
       "      <td>0.278333</td>\n",
       "      <td>0.626712</td>\n",
       "      <td>0.170103</td>\n",
       "      <td>0.591260</td>\n",
       "      <td>0.537415</td>\n",
       "      <td>1</td>\n",
       "    </tr>\n",
       "    <tr>\n",
       "      <th>4</th>\n",
       "      <td>1.0</td>\n",
       "      <td>1</td>\n",
       "      <td>1</td>\n",
       "      <td>0.989691</td>\n",
       "      <td>0.609694</td>\n",
       "      <td>1.000000</td>\n",
       "      <td>0.136667</td>\n",
       "      <td>0.428082</td>\n",
       "      <td>0.422680</td>\n",
       "      <td>0.748072</td>\n",
       "      <td>0.340136</td>\n",
       "      <td>1</td>\n",
       "    </tr>\n",
       "  </tbody>\n",
       "</table>\n",
       "</div>"
      ],
      "text/plain": [
       "   no_of_dependents  education  self_employed  income_annum  loan_amount  \\\n",
       "0               0.4          0              0      0.969072     0.755102   \n",
       "1               0.0          1              1      0.402062     0.303571   \n",
       "2               0.6          0              0      0.917526     0.750000   \n",
       "3               0.6          0              0      0.824742     0.775510   \n",
       "4               1.0          1              1      0.989691     0.609694   \n",
       "\n",
       "   loan_term  cibil_score  residential_assets_value  commercial_assets_value  \\\n",
       "0   0.555556     0.796667                  0.085616                 0.907216   \n",
       "1   0.333333     0.195000                  0.095890                 0.113402   \n",
       "2   1.000000     0.343333                  0.246575                 0.231959   \n",
       "3   0.333333     0.278333                  0.626712                 0.170103   \n",
       "4   1.000000     0.136667                  0.428082                 0.422680   \n",
       "\n",
       "   luxury_assets_value  bank_asset_value  loan_status  \n",
       "0             0.575835          0.544218            0  \n",
       "1             0.218509          0.224490            1  \n",
       "2             0.848329          0.870748            1  \n",
       "3             0.591260          0.537415            1  \n",
       "4             0.748072          0.340136            1  "
      ]
     },
     "execution_count": 23,
     "metadata": {},
     "output_type": "execute_result"
    }
   ],
   "source": [
    "df.head()"
   ]
  },
  {
   "cell_type": "code",
   "execution_count": 24,
   "id": "d930cd90",
   "metadata": {},
   "outputs": [
    {
     "data": {
      "image/png": "[encoded data removed]",
      "text/plain": [
       "<Figure size 576x432 with 2 Axes>"
      ]
     },
     "metadata": {
      "needs_background": "light"
     },
     "output_type": "display_data"
    }
   ],
   "source": [
    "# corrolation matrix\n",
    "numeric_df = df.loc[:, numeric_col]\n",
    "correlation_matrix = numeric_df.corr()\n",
    "\n",
    "plt.figure(figsize=(8, 6))\n",
    "sns.heatmap(correlation_matrix, annot=True, fmt='.2f')\n",
    "plt.show()"
   ]
  },
  {
   "cell_type": "markdown",
   "id": "8684af72",
   "metadata": {},
   "source": [
    "* loan_amount proportional to higher value income_annum"
   ]
  },
  {
   "cell_type": "code",
   "execution_count": 25,
   "id": "84155d5e",
   "metadata": {},
   "outputs": [
    {
     "data": {
      "text/plain": [
       "<AxesSubplot:xlabel='income_annum', ylabel='loan_amount'>"
      ]
     },
     "execution_count": 25,
     "metadata": {},
     "output_type": "execute_result"
    },
    {
     "data": {
      "image/png": "[encoded data removed]",
      "text/plain": [
       "<Figure size 432x288 with 1 Axes>"
      ]
     },
     "metadata": {
      "needs_background": "light"
     },
     "output_type": "display_data"
    }
   ],
   "source": [
    "sns.scatterplot(data=df, x=\"income_annum\", y=\"loan_amount\",  hue=\"loan_status\")"
   ]
  },
  {
   "cell_type": "markdown",
   "id": "b55cbb30",
   "metadata": {},
   "source": [
    "### Feature Selection"
   ]
  },
  {
   "cell_type": "code",
   "execution_count": 26,
   "id": "156e9b7e",
   "metadata": {},
   "outputs": [],
   "source": [
    "X = df.drop(\"loan_status\",axis = 1)\n",
    "y = df[\"loan_status\"]\n",
    "\n",
    "classifier = RandomForestClassifier()\n",
    "feature_selector = RFECV(classifier)\n",
    "\n",
    "fit = feature_selector.fit(X,y)"
   ]
  },
  {
   "cell_type": "code",
   "execution_count": 27,
   "id": "79355e11",
   "metadata": {},
   "outputs": [
    {
     "name": "stdout",
     "output_type": "stream",
     "text": [
      "Optimal number of features: 4\n"
     ]
    }
   ],
   "source": [
    "optimal_feature_count = feature_selector.n_features_\n",
    "print(f\"Optimal number of features: {optimal_feature_count}\")"
   ]
  },
  {
   "cell_type": "code",
   "execution_count": 28,
   "id": "a2924884",
   "metadata": {},
   "outputs": [
    {
     "data": {
      "text/html": [
       "<div>\n",
       "<style scoped>\n",
       "    .dataframe tbody tr th:only-of-type {\n",
       "        vertical-align: middle;\n",
       "    }\n",
       "\n",
       "    .dataframe tbody tr th {\n",
       "        vertical-align: top;\n",
       "    }\n",
       "\n",
       "    .dataframe thead th {\n",
       "        text-align: right;\n",
       "    }\n",
       "</style>\n",
       "<table border=\"1\" class=\"dataframe\">\n",
       "  <thead>\n",
       "    <tr style=\"text-align: right;\">\n",
       "      <th></th>\n",
       "      <th>income_annum</th>\n",
       "      <th>loan_amount</th>\n",
       "      <th>loan_term</th>\n",
       "      <th>cibil_score</th>\n",
       "    </tr>\n",
       "  </thead>\n",
       "  <tbody>\n",
       "    <tr>\n",
       "      <th>0</th>\n",
       "      <td>0.969072</td>\n",
       "      <td>0.755102</td>\n",
       "      <td>0.555556</td>\n",
       "      <td>0.796667</td>\n",
       "    </tr>\n",
       "    <tr>\n",
       "      <th>1</th>\n",
       "      <td>0.402062</td>\n",
       "      <td>0.303571</td>\n",
       "      <td>0.333333</td>\n",
       "      <td>0.195000</td>\n",
       "    </tr>\n",
       "    <tr>\n",
       "      <th>2</th>\n",
       "      <td>0.917526</td>\n",
       "      <td>0.750000</td>\n",
       "      <td>1.000000</td>\n",
       "      <td>0.343333</td>\n",
       "    </tr>\n",
       "    <tr>\n",
       "      <th>3</th>\n",
       "      <td>0.824742</td>\n",
       "      <td>0.775510</td>\n",
       "      <td>0.333333</td>\n",
       "      <td>0.278333</td>\n",
       "    </tr>\n",
       "    <tr>\n",
       "      <th>4</th>\n",
       "      <td>0.989691</td>\n",
       "      <td>0.609694</td>\n",
       "      <td>1.000000</td>\n",
       "      <td>0.136667</td>\n",
       "    </tr>\n",
       "    <tr>\n",
       "      <th>...</th>\n",
       "      <td>...</td>\n",
       "      <td>...</td>\n",
       "      <td>...</td>\n",
       "      <td>...</td>\n",
       "    </tr>\n",
       "    <tr>\n",
       "      <th>4264</th>\n",
       "      <td>0.082474</td>\n",
       "      <td>0.051020</td>\n",
       "      <td>0.555556</td>\n",
       "      <td>0.028333</td>\n",
       "    </tr>\n",
       "    <tr>\n",
       "      <th>4265</th>\n",
       "      <td>0.319588</td>\n",
       "      <td>0.280612</td>\n",
       "      <td>1.000000</td>\n",
       "      <td>0.431667</td>\n",
       "    </tr>\n",
       "    <tr>\n",
       "      <th>4266</th>\n",
       "      <td>0.649485</td>\n",
       "      <td>0.602041</td>\n",
       "      <td>0.888889</td>\n",
       "      <td>0.261667</td>\n",
       "    </tr>\n",
       "    <tr>\n",
       "      <th>4267</th>\n",
       "      <td>0.402062</td>\n",
       "      <td>0.318878</td>\n",
       "      <td>0.333333</td>\n",
       "      <td>0.800000</td>\n",
       "    </tr>\n",
       "    <tr>\n",
       "      <th>4268</th>\n",
       "      <td>0.927835</td>\n",
       "      <td>0.750000</td>\n",
       "      <td>0.444444</td>\n",
       "      <td>0.511667</td>\n",
       "    </tr>\n",
       "  </tbody>\n",
       "</table>\n",
       "<p>4269 rows × 4 columns</p>\n",
       "</div>"
      ],
      "text/plain": [
       "      income_annum  loan_amount  loan_term  cibil_score\n",
       "0         0.969072     0.755102   0.555556     0.796667\n",
       "1         0.402062     0.303571   0.333333     0.195000\n",
       "2         0.917526     0.750000   1.000000     0.343333\n",
       "3         0.824742     0.775510   0.333333     0.278333\n",
       "4         0.989691     0.609694   1.000000     0.136667\n",
       "...            ...          ...        ...          ...\n",
       "4264      0.082474     0.051020   0.555556     0.028333\n",
       "4265      0.319588     0.280612   1.000000     0.431667\n",
       "4266      0.649485     0.602041   0.888889     0.261667\n",
       "4267      0.402062     0.318878   0.333333     0.800000\n",
       "4268      0.927835     0.750000   0.444444     0.511667\n",
       "\n",
       "[4269 rows x 4 columns]"
      ]
     },
     "execution_count": 28,
     "metadata": {},
     "output_type": "execute_result"
    }
   ],
   "source": [
    "X_new = X.loc[:, feature_selector.get_support()]\n",
    "X_new"
   ]
  },
  {
   "cell_type": "code",
   "execution_count": 29,
   "id": "78920b1e",
   "metadata": {},
   "outputs": [
    {
     "data": {
      "image/png": "[encoded data removed]",
      "text/plain": [
       "<Figure size 432x288 with 1 Axes>"
      ]
     },
     "metadata": {
      "needs_background": "light"
     },
     "output_type": "display_data"
    }
   ],
   "source": [
    "plt.plot(range(1, len(fit.grid_scores_) + 1), fit.grid_scores_, marker = \"o\")\n",
    "plt.ylabel(\"Model Score\")\n",
    "plt.xlabel(\"Number of Features\")\n",
    "plt.title(f\"Optimal number of features is {optimal_feature_count} (at score of {round(max(fit.grid_scores_), 4)})\")\n",
    "plt.tight_layout() \n",
    "plt.show()"
   ]
  },
  {
   "cell_type": "markdown",
   "id": "5c53f162",
   "metadata": {},
   "source": [
    "**Looking at the number of features in the feature selection chart, fetaure number 4 and above are sufficient to explain the model. Here, model complexity can be reduced with a smaller model by keeping the number of features low. 4 feature will be enough to explain the model.**"
   ]
  },
  {
   "cell_type": "code",
   "execution_count": 30,
   "id": "cb9795f9",
   "metadata": {},
   "outputs": [
    {
     "data": {
      "text/html": [
       "<div>\n",
       "<style scoped>\n",
       "    .dataframe tbody tr th:only-of-type {\n",
       "        vertical-align: middle;\n",
       "    }\n",
       "\n",
       "    .dataframe tbody tr th {\n",
       "        vertical-align: top;\n",
       "    }\n",
       "\n",
       "    .dataframe thead th {\n",
       "        text-align: right;\n",
       "    }\n",
       "</style>\n",
       "<table border=\"1\" class=\"dataframe\">\n",
       "  <thead>\n",
       "    <tr style=\"text-align: right;\">\n",
       "      <th></th>\n",
       "      <th>income_annum</th>\n",
       "      <th>loan_amount</th>\n",
       "      <th>loan_term</th>\n",
       "      <th>cibil_score</th>\n",
       "    </tr>\n",
       "  </thead>\n",
       "  <tbody>\n",
       "    <tr>\n",
       "      <th>0</th>\n",
       "      <td>0.969072</td>\n",
       "      <td>0.755102</td>\n",
       "      <td>0.555556</td>\n",
       "      <td>0.796667</td>\n",
       "    </tr>\n",
       "    <tr>\n",
       "      <th>1</th>\n",
       "      <td>0.402062</td>\n",
       "      <td>0.303571</td>\n",
       "      <td>0.333333</td>\n",
       "      <td>0.195000</td>\n",
       "    </tr>\n",
       "    <tr>\n",
       "      <th>2</th>\n",
       "      <td>0.917526</td>\n",
       "      <td>0.750000</td>\n",
       "      <td>1.000000</td>\n",
       "      <td>0.343333</td>\n",
       "    </tr>\n",
       "    <tr>\n",
       "      <th>3</th>\n",
       "      <td>0.824742</td>\n",
       "      <td>0.775510</td>\n",
       "      <td>0.333333</td>\n",
       "      <td>0.278333</td>\n",
       "    </tr>\n",
       "    <tr>\n",
       "      <th>4</th>\n",
       "      <td>0.989691</td>\n",
       "      <td>0.609694</td>\n",
       "      <td>1.000000</td>\n",
       "      <td>0.136667</td>\n",
       "    </tr>\n",
       "    <tr>\n",
       "      <th>...</th>\n",
       "      <td>...</td>\n",
       "      <td>...</td>\n",
       "      <td>...</td>\n",
       "      <td>...</td>\n",
       "    </tr>\n",
       "    <tr>\n",
       "      <th>4264</th>\n",
       "      <td>0.082474</td>\n",
       "      <td>0.051020</td>\n",
       "      <td>0.555556</td>\n",
       "      <td>0.028333</td>\n",
       "    </tr>\n",
       "    <tr>\n",
       "      <th>4265</th>\n",
       "      <td>0.319588</td>\n",
       "      <td>0.280612</td>\n",
       "      <td>1.000000</td>\n",
       "      <td>0.431667</td>\n",
       "    </tr>\n",
       "    <tr>\n",
       "      <th>4266</th>\n",
       "      <td>0.649485</td>\n",
       "      <td>0.602041</td>\n",
       "      <td>0.888889</td>\n",
       "      <td>0.261667</td>\n",
       "    </tr>\n",
       "    <tr>\n",
       "      <th>4267</th>\n",
       "      <td>0.402062</td>\n",
       "      <td>0.318878</td>\n",
       "      <td>0.333333</td>\n",
       "      <td>0.800000</td>\n",
       "    </tr>\n",
       "    <tr>\n",
       "      <th>4268</th>\n",
       "      <td>0.927835</td>\n",
       "      <td>0.750000</td>\n",
       "      <td>0.444444</td>\n",
       "      <td>0.511667</td>\n",
       "    </tr>\n",
       "  </tbody>\n",
       "</table>\n",
       "<p>4269 rows × 4 columns</p>\n",
       "</div>"
      ],
      "text/plain": [
       "      income_annum  loan_amount  loan_term  cibil_score\n",
       "0         0.969072     0.755102   0.555556     0.796667\n",
       "1         0.402062     0.303571   0.333333     0.195000\n",
       "2         0.917526     0.750000   1.000000     0.343333\n",
       "3         0.824742     0.775510   0.333333     0.278333\n",
       "4         0.989691     0.609694   1.000000     0.136667\n",
       "...            ...          ...        ...          ...\n",
       "4264      0.082474     0.051020   0.555556     0.028333\n",
       "4265      0.319588     0.280612   1.000000     0.431667\n",
       "4266      0.649485     0.602041   0.888889     0.261667\n",
       "4267      0.402062     0.318878   0.333333     0.800000\n",
       "4268      0.927835     0.750000   0.444444     0.511667\n",
       "\n",
       "[4269 rows x 4 columns]"
      ]
     },
     "execution_count": 30,
     "metadata": {},
     "output_type": "execute_result"
    }
   ],
   "source": [
    "X_new"
   ]
  },
  {
   "cell_type": "code",
   "execution_count": 31,
   "id": "b6c6efb2",
   "metadata": {},
   "outputs": [
    {
     "data": {
      "text/plain": [
       "0       0\n",
       "1       1\n",
       "2       1\n",
       "3       1\n",
       "4       1\n",
       "       ..\n",
       "4264    1\n",
       "4265    0\n",
       "4266    1\n",
       "4267    0\n",
       "4268    0\n",
       "Name: loan_status, Length: 4269, dtype: int64"
      ]
     },
     "execution_count": 31,
     "metadata": {},
     "output_type": "execute_result"
    }
   ],
   "source": [
    "y"
   ]
  },
  {
   "cell_type": "markdown",
   "id": "e3cbdf71",
   "metadata": {},
   "source": [
    "## Model Training"
   ]
  },
  {
   "cell_type": "code",
   "execution_count": 32,
   "id": "bc177d6e",
   "metadata": {},
   "outputs": [],
   "source": [
    "models = {\n",
    "    'Logistic Regression':LogisticRegression(),\n",
    "    'RandomForestClassifier': RandomForestClassifier(),\n",
    "    'DecisionTreeClassifer':DecisionTreeClassifier(),\n",
    "    'SVM':SVC(),\n",
    "    'XGB Classifier': XGBClassifier()\n",
    "}"
   ]
  },
  {
   "cell_type": "markdown",
   "id": "dd514709",
   "metadata": {},
   "source": [
    "### Using All Features"
   ]
  },
  {
   "cell_type": "code",
   "execution_count": 33,
   "id": "ec0bd973",
   "metadata": {},
   "outputs": [],
   "source": [
    "X = df.drop(columns=['loan_status']) \n",
    "y = df[\"loan_status\"]"
   ]
  },
  {
   "cell_type": "code",
   "execution_count": 34,
   "id": "d1ece903",
   "metadata": {},
   "outputs": [],
   "source": [
    "kf = KFold(n_splits=5, shuffle=True, random_state=42)"
   ]
  },
  {
   "cell_type": "code",
   "execution_count": 35,
   "id": "6e0700d9",
   "metadata": {},
   "outputs": [
    {
     "name": "stdout",
     "output_type": "stream",
     "text": [
      "Logistic Regression\n",
      "[0.91217799 0.90515222 0.91686183 0.91920375 0.92966002]\n",
      "0.916611161597997\n",
      "RandomForestClassifier\n",
      "[0.9824356  0.98477752 0.98009368 0.98360656 0.98710434]\n",
      "0.9836035373156046\n",
      "DecisionTreeClassifer\n",
      "[0.97775176 0.98009368 0.98009368 0.9765808  0.97772567]\n",
      "0.9784491160829253\n",
      "SVM\n",
      "[0.92740047 0.92974239 0.93676815 0.93559719 0.95310668]\n",
      "0.9365229758038168\n",
      "XGB Classifier\n",
      "[0.9824356  0.98946136 0.98009368 0.98711944 0.98358734]\n",
      "0.9845394818123664\n"
     ]
    }
   ],
   "source": [
    "for i in range(len(models)):\n",
    "    model = list(models.values())[i]\n",
    "    model_name = list(models.keys())[i]\n",
    "    cross_val_scores = cross_val_score(model, X, y, cv=kf)\n",
    "    print(model_name)\n",
    "    print(cross_val_scores)\n",
    "    print(cross_val_scores.mean())"
   ]
  },
  {
   "cell_type": "markdown",
   "id": "61d46cf9",
   "metadata": {},
   "source": [
    "### Using Selected Features"
   ]
  },
  {
   "cell_type": "code",
   "execution_count": 36,
   "id": "f8f73aff",
   "metadata": {},
   "outputs": [
    {
     "name": "stdout",
     "output_type": "stream",
     "text": [
      "Logistic Regression\n",
      "[0.91217799 0.90866511 0.92037471 0.91569087 0.93083236]\n",
      "0.9175482042989203\n",
      "RandomForestClassifier\n",
      "[0.98360656 0.98360656 0.98477752 0.98594848 0.98475967]\n",
      "0.9845397563634067\n",
      "DecisionTreeClassifer\n",
      "[0.98009368 0.98594848 0.98360656 0.98594848 0.98358734]\n",
      "0.9838369056999541\n",
      "SVM\n",
      "[0.95316159 0.96604215 0.96252927 0.96135831 0.97655334]\n",
      "0.9639289352086999\n",
      "XGB Classifier\n",
      "[0.98711944 0.98477752 0.9824356  0.99297424 0.98475967]\n",
      "0.9864132926631726\n"
     ]
    }
   ],
   "source": [
    "for i in range(len(models)):\n",
    "    model = list(models.values())[i]\n",
    "    model_name = list(models.keys())[i]\n",
    "    cross_val_scores = cross_val_score(model, X_new, y, cv=kf)\n",
    "    print(model_name)\n",
    "    print(cross_val_scores)\n",
    "    print(cross_val_scores.mean())"
   ]
  },
  {
   "cell_type": "markdown",
   "id": "a4e7a60b",
   "metadata": {},
   "source": [
    "### Final Model Performance with Selected Features"
   ]
  },
  {
   "cell_type": "markdown",
   "id": "fbbd631a",
   "metadata": {},
   "source": [
    "Actually, when the model is trained using all features, a similar successful performance will be achieved. \n",
    "\n",
    "But, using fewer features in a machine learning model can offer several advantages:\n",
    " - Reduced Overfitting\n",
    " - Computational Efficiency\n",
    " - Reduced Complexity\n",
    " - Less Data Needed\n",
    " - Less Sensitivity to Outliers and Noise"
   ]
  },
  {
   "cell_type": "code",
   "execution_count": 37,
   "id": "eb1efe13",
   "metadata": {},
   "outputs": [],
   "source": [
    "X_train,X_test,y_train,y_test = train_test_split(X_new,y,shuffle = True,random_state=42,test_size=0.2)"
   ]
  },
  {
   "cell_type": "code",
   "execution_count": 38,
   "id": "b89f0bba",
   "metadata": {},
   "outputs": [
    {
     "name": "stdout",
     "output_type": "stream",
     "text": [
      "Logistic Regression\n",
      "Accuracy :  0.9121779859484778\n",
      "              precision    recall  f1-score   support\n",
      "\n",
      "           0       0.93      0.93      0.93       536\n",
      "           1       0.89      0.88      0.88       318\n",
      "\n",
      "    accuracy                           0.91       854\n",
      "   macro avg       0.91      0.91      0.91       854\n",
      "weighted avg       0.91      0.91      0.91       854\n",
      "\n",
      "------------------------------------------------------\n",
      "RandomForestClassifier\n",
      "Accuracy :  0.9847775175644028\n",
      "              precision    recall  f1-score   support\n",
      "\n",
      "           0       0.98      0.99      0.99       536\n",
      "           1       0.99      0.97      0.98       318\n",
      "\n",
      "    accuracy                           0.98       854\n",
      "   macro avg       0.99      0.98      0.98       854\n",
      "weighted avg       0.98      0.98      0.98       854\n",
      "\n",
      "------------------------------------------------------\n",
      "DecisionTreeClassifer\n",
      "Accuracy :  0.9800936768149883\n",
      "              precision    recall  f1-score   support\n",
      "\n",
      "           0       0.99      0.98      0.98       536\n",
      "           1       0.97      0.97      0.97       318\n",
      "\n",
      "    accuracy                           0.98       854\n",
      "   macro avg       0.98      0.98      0.98       854\n",
      "weighted avg       0.98      0.98      0.98       854\n",
      "\n",
      "------------------------------------------------------\n",
      "SVM\n",
      "Accuracy :  0.9531615925058547\n",
      "              precision    recall  f1-score   support\n",
      "\n",
      "           0       0.97      0.96      0.96       536\n",
      "           1       0.93      0.95      0.94       318\n",
      "\n",
      "    accuracy                           0.95       854\n",
      "   macro avg       0.95      0.95      0.95       854\n",
      "weighted avg       0.95      0.95      0.95       854\n",
      "\n",
      "------------------------------------------------------\n",
      "XGB Classifier\n",
      "Accuracy :  0.9871194379391101\n",
      "              precision    recall  f1-score   support\n",
      "\n",
      "           0       0.99      0.99      0.99       536\n",
      "           1       0.99      0.97      0.98       318\n",
      "\n",
      "    accuracy                           0.99       854\n",
      "   macro avg       0.99      0.98      0.99       854\n",
      "weighted avg       0.99      0.99      0.99       854\n",
      "\n",
      "------------------------------------------------------\n"
     ]
    }
   ],
   "source": [
    "for i in range(len(models)):\n",
    "    model = list(models.values())[i]\n",
    "    model_name = list(models.keys())[i]\n",
    "    \n",
    "    model.fit(X_train,y_train)\n",
    "    \n",
    "    y_pred = model.predict(X_test)\n",
    "    \n",
    "    print(model_name)\n",
    "    print(\"Accuracy : \",accuracy_score(y_test,y_pred))\n",
    "    print(classification_report(y_test, y_pred))\n",
    "    print('------------------------------------------------------')"
   ]
  },
  {
   "cell_type": "code",
   "execution_count": 39,
   "id": "67cd44e6",
   "metadata": {},
   "outputs": [
    {
     "name": "stdout",
     "output_type": "stream",
     "text": [
      "0.9871194379391101\n"
     ]
    }
   ],
   "source": [
    "model = XGBClassifier() \n",
    "\n",
    "model.fit(X_train,y_train)\n",
    "y_pred = model.predict(X_test)\n",
    "\n",
    "print(accuracy_score(y_test,y_pred))"
   ]
  },
  {
   "cell_type": "code",
   "execution_count": 40,
   "id": "46d6bca8",
   "metadata": {},
   "outputs": [
    {
     "name": "stdout",
     "output_type": "stream",
     "text": [
      "Accuracy :  0.9871194379391101\n",
      "              precision    recall  f1-score   support\n",
      "\n",
      "           0       0.99      0.99      0.99       536\n",
      "           1       0.99      0.97      0.98       318\n",
      "\n",
      "    accuracy                           0.99       854\n",
      "   macro avg       0.99      0.98      0.99       854\n",
      "weighted avg       0.99      0.99      0.99       854\n",
      "\n"
     ]
    }
   ],
   "source": [
    "print(\"Accuracy : \",accuracy_score(y_test,y_pred))\n",
    "print(classification_report(y_test, y_pred))"
   ]
  },
  {
   "cell_type": "markdown",
   "id": "c18fb122",
   "metadata": {},
   "source": [
    "**Since XGBoost doesn't require feature scaling, we can train model with selected features without scaling**"
   ]
  },
  {
   "cell_type": "code",
   "execution_count": 41,
   "id": "910fa8fa",
   "metadata": {},
   "outputs": [],
   "source": [
    "df_last = pd.read_csv(PATH)\n",
    "df_last.columns = df_last.columns.str.replace(' ', '') "
   ]
  },
  {
   "cell_type": "code",
   "execution_count": 42,
   "id": "c8f87537",
   "metadata": {
    "scrolled": true
   },
   "outputs": [],
   "source": [
    "X = df_last[X_new.columns]\n",
    "y = df[\"loan_status\"]"
   ]
  },
  {
   "cell_type": "code",
   "execution_count": 43,
   "id": "a87c55e1",
   "metadata": {},
   "outputs": [],
   "source": [
    "X_train,X_test,y_train,y_test = train_test_split(X,y,shuffle = True,random_state=42,test_size=0.2)"
   ]
  },
  {
   "cell_type": "code",
   "execution_count": 44,
   "id": "035d83ab",
   "metadata": {},
   "outputs": [
    {
     "name": "stdout",
     "output_type": "stream",
     "text": [
      "0.9871194379391101\n"
     ]
    }
   ],
   "source": [
    "model = XGBClassifier() \n",
    "\n",
    "model.fit(X_train,y_train)\n",
    "y_pred = model.predict(X_test)\n",
    "\n",
    "print(accuracy_score(y_test,y_pred))"
   ]
  },
  {
   "cell_type": "code",
   "execution_count": 45,
   "id": "a10bcdfd",
   "metadata": {},
   "outputs": [
    {
     "name": "stdout",
     "output_type": "stream",
     "text": [
      "Accuracy :  0.9871194379391101\n",
      "              precision    recall  f1-score   support\n",
      "\n",
      "           0       0.99      0.99      0.99       536\n",
      "           1       0.99      0.97      0.98       318\n",
      "\n",
      "    accuracy                           0.99       854\n",
      "   macro avg       0.99      0.98      0.99       854\n",
      "weighted avg       0.99      0.99      0.99       854\n",
      "\n"
     ]
    }
   ],
   "source": [
    "print(\"Accuracy : \",accuracy_score(y_test,y_pred))\n",
    "print(classification_report(y_test, y_pred))"
   ]
  },
  {
   "cell_type": "markdown",
   "id": "d20f3fb6",
   "metadata": {},
   "source": [
    "## Final Model"
   ]
  },
  {
   "cell_type": "markdown",
   "id": "3fae8c4e",
   "metadata": {},
   "source": [
    "**Since kfold is balanced, model training can be done using the entire dataset.**"
   ]
  },
  {
   "cell_type": "code",
   "execution_count": 46,
   "id": "2a2d0f63",
   "metadata": {},
   "outputs": [
    {
     "data": {
      "text/html": [
       "<div>\n",
       "<style scoped>\n",
       "    .dataframe tbody tr th:only-of-type {\n",
       "        vertical-align: middle;\n",
       "    }\n",
       "\n",
       "    .dataframe tbody tr th {\n",
       "        vertical-align: top;\n",
       "    }\n",
       "\n",
       "    .dataframe thead th {\n",
       "        text-align: right;\n",
       "    }\n",
       "</style>\n",
       "<table border=\"1\" class=\"dataframe\">\n",
       "  <thead>\n",
       "    <tr style=\"text-align: right;\">\n",
       "      <th></th>\n",
       "      <th>income_annum</th>\n",
       "      <th>loan_amount</th>\n",
       "      <th>loan_term</th>\n",
       "      <th>cibil_score</th>\n",
       "    </tr>\n",
       "  </thead>\n",
       "  <tbody>\n",
       "    <tr>\n",
       "      <th>0</th>\n",
       "      <td>9600000</td>\n",
       "      <td>29900000</td>\n",
       "      <td>12</td>\n",
       "      <td>778</td>\n",
       "    </tr>\n",
       "    <tr>\n",
       "      <th>1</th>\n",
       "      <td>4100000</td>\n",
       "      <td>12200000</td>\n",
       "      <td>8</td>\n",
       "      <td>417</td>\n",
       "    </tr>\n",
       "    <tr>\n",
       "      <th>2</th>\n",
       "      <td>9100000</td>\n",
       "      <td>29700000</td>\n",
       "      <td>20</td>\n",
       "      <td>506</td>\n",
       "    </tr>\n",
       "    <tr>\n",
       "      <th>3</th>\n",
       "      <td>8200000</td>\n",
       "      <td>30700000</td>\n",
       "      <td>8</td>\n",
       "      <td>467</td>\n",
       "    </tr>\n",
       "    <tr>\n",
       "      <th>4</th>\n",
       "      <td>9800000</td>\n",
       "      <td>24200000</td>\n",
       "      <td>20</td>\n",
       "      <td>382</td>\n",
       "    </tr>\n",
       "    <tr>\n",
       "      <th>...</th>\n",
       "      <td>...</td>\n",
       "      <td>...</td>\n",
       "      <td>...</td>\n",
       "      <td>...</td>\n",
       "    </tr>\n",
       "    <tr>\n",
       "      <th>4264</th>\n",
       "      <td>1000000</td>\n",
       "      <td>2300000</td>\n",
       "      <td>12</td>\n",
       "      <td>317</td>\n",
       "    </tr>\n",
       "    <tr>\n",
       "      <th>4265</th>\n",
       "      <td>3300000</td>\n",
       "      <td>11300000</td>\n",
       "      <td>20</td>\n",
       "      <td>559</td>\n",
       "    </tr>\n",
       "    <tr>\n",
       "      <th>4266</th>\n",
       "      <td>6500000</td>\n",
       "      <td>23900000</td>\n",
       "      <td>18</td>\n",
       "      <td>457</td>\n",
       "    </tr>\n",
       "    <tr>\n",
       "      <th>4267</th>\n",
       "      <td>4100000</td>\n",
       "      <td>12800000</td>\n",
       "      <td>8</td>\n",
       "      <td>780</td>\n",
       "    </tr>\n",
       "    <tr>\n",
       "      <th>4268</th>\n",
       "      <td>9200000</td>\n",
       "      <td>29700000</td>\n",
       "      <td>10</td>\n",
       "      <td>607</td>\n",
       "    </tr>\n",
       "  </tbody>\n",
       "</table>\n",
       "<p>4269 rows × 4 columns</p>\n",
       "</div>"
      ],
      "text/plain": [
       "      income_annum  loan_amount  loan_term  cibil_score\n",
       "0          9600000     29900000         12          778\n",
       "1          4100000     12200000          8          417\n",
       "2          9100000     29700000         20          506\n",
       "3          8200000     30700000          8          467\n",
       "4          9800000     24200000         20          382\n",
       "...            ...          ...        ...          ...\n",
       "4264       1000000      2300000         12          317\n",
       "4265       3300000     11300000         20          559\n",
       "4266       6500000     23900000         18          457\n",
       "4267       4100000     12800000          8          780\n",
       "4268       9200000     29700000         10          607\n",
       "\n",
       "[4269 rows x 4 columns]"
      ]
     },
     "execution_count": 46,
     "metadata": {},
     "output_type": "execute_result"
    }
   ],
   "source": [
    "X"
   ]
  },
  {
   "cell_type": "code",
   "execution_count": 47,
   "id": "a99a028b",
   "metadata": {},
   "outputs": [
    {
     "data": {
      "text/plain": [
       "0       0\n",
       "1       1\n",
       "2       1\n",
       "3       1\n",
       "4       1\n",
       "       ..\n",
       "4264    1\n",
       "4265    0\n",
       "4266    1\n",
       "4267    0\n",
       "4268    0\n",
       "Name: loan_status, Length: 4269, dtype: int64"
      ]
     },
     "execution_count": 47,
     "metadata": {},
     "output_type": "execute_result"
    }
   ],
   "source": [
    "y"
   ]
  },
  {
   "cell_type": "code",
   "execution_count": 48,
   "id": "f2902643",
   "metadata": {},
   "outputs": [
    {
     "data": {
      "text/plain": [
       "['model.pkl']"
      ]
     },
     "execution_count": 48,
     "metadata": {},
     "output_type": "execute_result"
    }
   ],
   "source": [
    "model = XGBClassifier() \n",
    "\n",
    "model.fit(X, y)\n",
    "\n",
    "joblib.dump(model,\"model.pkl\")"
   ]
  },
  {
   "cell_type": "code",
   "execution_count": null,
   "id": "2ab53ba7",
   "metadata": {},
   "outputs": [],
   "source": []
  }
 ],
 "metadata": {
  "kernelspec": {
   "display_name": "Python 3 (ipykernel)",
   "language": "python",
   "name": "python3"
  },
  "language_info": {
   "codemirror_mode": {
    "name": "ipython",
    "version": 3
   },
   "file_extension": ".py",
   "mimetype": "text/x-python",
   "name": "python",
   "nbconvert_exporter": "python",
   "pygments_lexer": "ipython3",
   "version": "3.9.7"
  }
 },
 "nbformat": 4,
 "nbformat_minor": 5
}
